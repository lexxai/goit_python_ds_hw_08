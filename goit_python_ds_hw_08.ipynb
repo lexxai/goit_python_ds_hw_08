{
  "cells": [
    {
      "cell_type": "markdown",
      "metadata": {
        "id": "view-in-github",
        "colab_type": "text"
      },
      "source": [
        "<a href=\"https://colab.research.google.com/github/lexxai/goit_python_ds_hw_08/blob/main/goit_python_ds_hw_08.ipynb\" target=\"_parent\"><img src=\"https://colab.research.google.com/assets/colab-badge.svg\" alt=\"Open In Colab\"/></a>"
      ]
    },
    {
      "cell_type": "markdown",
      "metadata": {
        "id": "b0Yf4NBJUSNM"
      },
      "source": [
        "# Створення нейронної мережі\n",
        "\n",
        "У цьому завданні ми створимо повнозв'язну нейронну мережу, використовуючи при цьому низькорівневі механізми tensorflow.\n",
        "\n",
        "Архітектура нейромережі представлена на наступному малюнку. Як бачиш, у ній є один вхідний шар, два приховані, а також вихідний шар. В якості активаційної функції у прихованих шарах буде використовуватись сигмоїда. На вихідному шарі ми використовуємо softmax.\n",
        "\n",
        "Частина коду зі створення мережі вже написана, тобі потрібно заповнити пропуски у вказаних місцях."
      ]
    },
    {
      "cell_type": "markdown",
      "metadata": {
        "id": "01rZWUu0USNQ"
      },
      "source": [
        "## Архітектура нейронної мережі\n",
        "\n",
        "<img src=\"http://cs231n.github.io/assets/nn1/neural_net2.jpeg\" alt=\"nn\" style=\"width: 400px;\"/>\n"
      ]
    },
    {
      "cell_type": "markdown",
      "metadata": {
        "id": "LLvIZ705Qw_V"
      },
      "source": [
        "## Про датасет MNIST\n",
        "\n",
        "Дану нейромережу ми будемо вивчати на датасеті MNIST. Цей датасет являє собою велику кількість зображень рукописних цифр розміром $28 \\times 28$ пікселів. Кожен піксель приймає значення від 0 до 255.\n",
        "\n",
        "Як і раніше, датасет буде розділений на навчальну та тестову вибірки. При цьому ми виконаємо нормалізацію всіх зображень, щоб значення пікселів знаходилось у проміжку від 0 до 1, розділивши яскравість кожного пікселя на 255.\n",
        "\n",
        "Окрім того, архітектура нейронної мережі очікує на вхід вектор. У нашому ж випадку кожен об'єкт вибірки являє собою матрицю. Що ж робити? У цьому завданні ми \"розтягнемо\" матрицю $28 \\times 28$, отримавши при цьому вектор, що складається з 784 елементів.\n",
        "\n",
        "![MNIST Dataset](https://www.researchgate.net/profile/Steven-Young-5/publication/306056875/figure/fig1/AS:393921575309346@1470929630835/Example-images-from-the-MNIST-dataset.png)\n",
        "\n",
        "Більше інформації про датасет можна знайти [тут](http://yann.lecun.com/exdb/mnist/)."
      ]
    },
    {
      "cell_type": "code",
      "execution_count": 18,
      "metadata": {
        "id": "il_0_5OyUSNR"
      },
      "outputs": [],
      "source": [
        "from enum import Enum, auto\n",
        "\n",
        "import tensorflow as tf\n",
        "import numpy as np\n",
        "import pandas as pd\n",
        "import matplotlib.pyplot as plt\n",
        "import random\n",
        "import keras as K\n",
        "import seaborn as sns\n",
        "from sklearn.metrics import confusion_matrix"
      ]
    },
    {
      "cell_type": "code",
      "execution_count": 19,
      "metadata": {
        "id": "cd-1_abTUSNS",
        "colab": {
          "base_uri": "https://localhost:8080/"
        },
        "outputId": "00d143b6-b45e-4c3f-e646-819901ac3c8e"
      },
      "outputs": [
        {
          "output_type": "stream",
          "name": "stdout",
          "text": [
            "1\n"
          ]
        }
      ],
      "source": [
        "num_classes = 10 # загальна кількість класів, у нашому випадку це цифри від 0 до 9\n",
        "num_features = 784 # кількість атрибутів вхідного вектора 28 * 28 = 784\n",
        "\n",
        "learning_rate = 0.001 # швидкість навчання нейронної мережі\n",
        "training_steps = 3000 # максимальне число епох\n",
        "batch_size = 256 # перераховувати ваги мережі ми будемо не на всій вибірці, а на її випадковій підмножині з batch_size елементів\n",
        "display_step = 100 # кожні 100 ітерацій ми будемо показувати поточне значення функції втрат і точності\n",
        "\n",
        "n_hidden_1 = 128 # кількість нейронів 1-го шару\n",
        "n_hidden_2 = 256 # кількість нейронів 2-го шару\n",
        "\n",
        "class Activations(Enum):\n",
        "  softmax = auto()\n",
        "  sigmoid = auto()\n",
        "\n",
        "print(Activations.softmax.value)"
      ]
    },
    {
      "cell_type": "code",
      "execution_count": 20,
      "metadata": {
        "id": "pGTXiRyTUSNT",
        "colab": {
          "base_uri": "https://localhost:8080/"
        },
        "outputId": "74cf4246-af65-41af-d88f-99bb7d8a5248"
      },
      "outputs": [
        {
          "output_type": "stream",
          "name": "stdout",
          "text": [
            "Downloading data from https://storage.googleapis.com/tensorflow/tf-keras-datasets/mnist.npz\n",
            "11490434/11490434 [==============================] - 0s 0us/step\n"
          ]
        }
      ],
      "source": [
        "# from tensorflow.keras.datasets import mnist\n",
        "from keras.datasets import mnist\n",
        "\n",
        "# Завантажуємо датасет\n",
        "(x_train, y_train), (x_test, y_test) = mnist.load_data()\n",
        "\n",
        "#print(y_train.dtype)\n",
        "\n",
        "# Перетворюємо цілочисельні пікселі на тип float32\n",
        "x_train, x_test = np.array(x_train, np.float32), np.array(x_test, np.float32)\n",
        "\n",
        "# Перетворюємо матриці розміром 28x28 пікселів у вектор з 784 елементів\n",
        "x_train, x_test = x_train.reshape([-1, num_features]), x_test.reshape([-1, num_features])\n",
        "\n",
        "# Нормалізуємо значення пікселів\n",
        "x_train, x_test = x_train / 255., x_test / 255.\n",
        "\n",
        "# Перемішаємо тренувальні дані\n",
        "train_data = tf.data.Dataset.from_tensor_slices((x_train, y_train))\n",
        "train_data = train_data.repeat().shuffle(5000).batch(batch_size).prefetch(1)"
      ]
    },
    {
      "cell_type": "code",
      "execution_count": 29,
      "metadata": {
        "id": "FkRmCQjnUSNV"
      },
      "outputs": [],
      "source": [
        "from re import A\n",
        "# Створимо нейронну мережу\n",
        "\n",
        "class DenseLayer(tf.Module):\n",
        "    def __init__(self, in_features, out_features, name=None):\n",
        "        super().__init__(name=name)\n",
        "        self.w = tf.Variable(\n",
        "            tf.random.normal([in_features, out_features]), name=\"w\"\n",
        "        )\n",
        "        self.b = tf.Variable(tf.zeros([out_features]), name=\"b\")\n",
        "\n",
        "    def __call__(self, x, activation=Activations.sigmoid):\n",
        "        y = tf.matmul(x, self.w) + self.b\n",
        "        if activation == Activations.softmax:\n",
        "          return tf.nn.softmax(y)\n",
        "        elif activation == Activations.sigmoid:\n",
        "          return tf.nn.sigmoid(y)\n",
        "        else:\n",
        "          print(\"NO ACTIVATION\")\n",
        "          return y\n",
        "\n",
        "class NN(tf.Module):\n",
        "  def __init__(self, name=None):\n",
        "    super().__init__(name=name)\n",
        "    # Перший шар, який складається з 128 нейронів\n",
        "    self.layer_1 = DenseLayer(in_features=num_features, out_features=n_hidden_1, name=\"DL1\")\n",
        "    # Другий шар, який складається з 256 нейронів\n",
        "    self.layer_2 = DenseLayer(in_features=n_hidden_1, out_features=n_hidden_2, name=\"DL2\")\n",
        "    # Вихідний шар\n",
        "    self.layer_3 = DenseLayer(in_features=n_hidden_2, out_features=num_classes, name=\"EL\")\n",
        "\n",
        "\n",
        "\n",
        "  def __call__(self, x):\n",
        "    # Передача даних через перші два шари та вихідний шар з функцією активації softmax\n",
        "    x = self.layer_1(x)\n",
        "    x = self.layer_2(x)\n",
        "    return self.layer_3(x, activation=Activations.softmax)"
      ]
    },
    {
      "cell_type": "code",
      "execution_count": 22,
      "metadata": {
        "id": "LIf3o7VAUSNV"
      },
      "outputs": [],
      "source": [
        "# В якості функції помилки (loss) в даному випадку зручно взяти крос-ентропію\n",
        "def cross_entropy(y_pred, y_true):\n",
        "    # Закодувати label в one hot vector\n",
        "    #y_true = np.array(y_true, np.uint8)\n",
        "    #print(f\"{y_true.dtype=}\")\n",
        "    y_true_h = tf.one_hot(tf.cast(y_true, tf.int32), depth=num_classes, dtype=tf.float32)\n",
        "    # print(f\"cross_entropy {y_true=}\")\n",
        "\n",
        "    # Значення передбачення, щоб уникнути помилки log(0).\n",
        "    #y_true = tf.cast(y_true, tf.float32)\n",
        "    y_pred = tf.cast(y_pred, tf.float32)\n",
        "    y_pred = tf.clip_by_value(y_pred, 1e-9, 1.0)\n",
        "    #print(f\"{y_true_h.shape=}\")\n",
        "    #print(f\"{y_pred.shape=}\")\n",
        "    # Обчислення крос-ентропії\n",
        "    return tf.reduce_mean(-tf.reduce_sum(y_true_h * tf.math.log(y_pred)))\n",
        "\n",
        "# Як метрику якості використовуємо точність\n",
        "def accuracy(y_pred, y_true):\n",
        "    # Місце для вашого коду\n",
        "    # Convert predicted probabilities to predicted labels\n",
        "    #print(f\"{y_pred=}\")\n",
        "    y_pred_labels = tf.argmax(y_pred, axis=1)\n",
        "\n",
        "    # Compare predicted labels with true labels\n",
        "    y_true = tf.cast(y_true, tf.float32)\n",
        "    y_pred_labels = tf.cast(y_pred_labels, tf.float32)\n",
        "    correct_predictions = tf.equal(y_pred_labels, y_true)\n",
        "\n",
        "    # Compute accuracy\n",
        "    accuracy = tf.reduce_mean(tf.cast(correct_predictions, tf.float32))\n",
        "\n",
        "    return accuracy"
      ]
    },
    {
      "cell_type": "code",
      "execution_count": 46,
      "metadata": {
        "id": "MQeT1yatUSNW"
      },
      "outputs": [],
      "source": [
        "# Створимо екземпляр нейронної мережі\n",
        "neural_net = NN(name=\"mnist\")\n",
        "\n",
        "# Функція навчання нейромережі\n",
        "def train(neural_net, input_x, output_y):\n",
        "  # Для налаштування вагів мережі будемо використовувати стохастичний градієнтний спуск\n",
        "  optimizer = tf.optimizers.SGD(learning_rate)\n",
        "\n",
        "  # Активація автоматичного диференціювання\n",
        "  with tf.GradientTape() as g:\n",
        "    pred = neural_net(input_x)\n",
        "    loss = cross_entropy(pred, output_y)\n",
        "\n",
        "  # Отримаємо градієнти відносно ваг\n",
        "  gradients = g.gradient(loss, neural_net.trainable_variables)\n",
        "  # Оновлення ваг за допомогою градієнтного спуску\n",
        "  optimizer.apply_gradients(zip(gradients, neural_net.trainable_variables))\n",
        "  # # Модифікуємо параметри\n",
        "  # neural_net.trainable_variables[0].assign_sub(learning_rate * gradients[0])\n",
        "  # neural_net.trainable_variables[1].assign_sub(learning_rate * gradients[1])\n",
        "\n",
        "  # Aбо\n",
        "  # # Обчислимо за ними значення градієнта\n",
        "  # dw, db = g.gradient(loss, neural_net.trainable_variables)\n",
        "\n",
        "  # # Модифікуємо параметри\n",
        "  # neural_net.w.assign_sub(learning_rate * dw)\n",
        "  # neural_net.b.assign_sub(learning_rate * db)\n",
        "\n",
        "  # Або одна команда:\n",
        "  #optimizer.minimize(loss, neural_net.trainable_variables)\n",
        "  return loss"
      ]
    },
    {
      "cell_type": "code",
      "execution_count": 48,
      "metadata": {
        "id": "fnyns9lBfpQZ",
        "colab": {
          "base_uri": "https://localhost:8080/"
        },
        "outputId": "c9022f97-a11e-4e27-d6cf-64863a43b091"
      },
      "outputs": [
        {
          "output_type": "stream",
          "name": "stdout",
          "text": [
            "Step 100, Loss: 67.08352661132812, Accuracy: 92.19%\n",
            "Step 200, Loss: 104.82396697998047, Accuracy: 88.28%\n",
            "Step 300, Loss: 68.98318481445312, Accuracy: 93.36%\n",
            "Step 400, Loss: 56.374908447265625, Accuracy: 94.14%\n",
            "Step 500, Loss: 47.86217498779297, Accuracy: 94.92%\n",
            "Step 600, Loss: 68.13078308105469, Accuracy: 93.36%\n",
            "Step 700, Loss: 44.45745849609375, Accuracy: 93.75%\n",
            "Step 800, Loss: 45.73905944824219, Accuracy: 94.14%\n",
            "Step 900, Loss: 63.3343505859375, Accuracy: 92.19%\n",
            "Step 1000, Loss: 65.8798828125, Accuracy: 91.80%\n",
            "Step 1100, Loss: 40.63916778564453, Accuracy: 94.53%\n",
            "Step 1200, Loss: 82.82014465332031, Accuracy: 89.84%\n",
            "Step 1300, Loss: 62.583797454833984, Accuracy: 92.97%\n",
            "Step 1400, Loss: 48.80881881713867, Accuracy: 94.53%\n",
            "Step 1500, Loss: 45.26308059692383, Accuracy: 93.36%\n",
            "Step 1600, Loss: 83.36026000976562, Accuracy: 90.23%\n",
            "Step 1700, Loss: 40.590850830078125, Accuracy: 95.31%\n",
            "Step 1800, Loss: 77.50125122070312, Accuracy: 93.36%\n",
            "Step 1900, Loss: 50.04871368408203, Accuracy: 94.92%\n",
            "Step 2000, Loss: 49.333038330078125, Accuracy: 94.53%\n",
            "Step 2100, Loss: 34.86700439453125, Accuracy: 96.48%\n",
            "Step 2200, Loss: 44.12786865234375, Accuracy: 93.75%\n",
            "Step 2300, Loss: 54.12125778198242, Accuracy: 94.14%\n",
            "Step 2400, Loss: 37.24958038330078, Accuracy: 93.75%\n",
            "Step 2500, Loss: 52.42662048339844, Accuracy: 94.92%\n",
            "Step 2600, Loss: 54.836212158203125, Accuracy: 95.70%\n",
            "Step 2700, Loss: 47.95875549316406, Accuracy: 94.92%\n",
            "Step 2800, Loss: 48.31525421142578, Accuracy: 93.36%\n",
            "Step 2900, Loss: 48.34052658081055, Accuracy: 94.92%\n",
            "Step 3000, Loss: 37.152442932128906, Accuracy: 95.70%\n"
          ]
        }
      ],
      "source": [
        "# Тренування мережі\n",
        "\n",
        "loss_history = []  # кожні display_step кроків зберігай в цьому списку поточну помилку нейромережі\n",
        "accuracy_history = [] # кожні display_step кроків зберігай в цьому списку поточну точність нейромережі\n",
        "\n",
        "# У цьому циклі ми будемо проводити навчання нейронної мережі\n",
        "# із тренувального датасета train_data вилучи випадкову підмножину, на якій\n",
        "# відбудеться тренування. Використовуй метод take, доступний для тренувального датасета.\n",
        "for step, (batch_x, batch_y) in enumerate(train_data.take(training_steps), 1):\n",
        "    # Оновлюємо ваги нейронної мережі\n",
        "    #print(batch_x)\n",
        "    #print(f\"{batch_y.dtype=}\")\n",
        "    train(neural_net, batch_x, batch_y)\n",
        "\n",
        "    if step % display_step == 0:\n",
        "        pred = neural_net(batch_x)\n",
        "        # print(batch_y.shape)\n",
        "        # print(pred.shape)\n",
        "        current_loss = cross_entropy(pred, batch_y)\n",
        "        acc = accuracy(pred, batch_y)\n",
        "        accuracy_history.append(acc)\n",
        "        loss_history.append(current_loss)\n",
        "        print(f\"Step {step}, Loss: {current_loss}, Accuracy: {acc:.2%}\")\n",
        "\n"
      ]
    },
    {
      "cell_type": "code",
      "execution_count": 49,
      "metadata": {
        "id": "_yCBfG6MbQB2",
        "colab": {
          "base_uri": "https://localhost:8080/",
          "height": 719
        },
        "outputId": "16f0d9f7-244f-4d01-d216-e1bb078723ba"
      },
      "outputs": [
        {
          "output_type": "display_data",
          "data": {
            "text/plain": [
              "<Figure size 700x400 with 1 Axes>"
            ],
            "image/png": "[encoded data removed]"
          },
          "metadata": {}
        },
        {
          "output_type": "display_data",
          "data": {
            "text/plain": [
              "<Figure size 700x400 with 1 Axes>"
            ],
            "image/png": "[encoded data removed]"
          },
          "metadata": {}
        }
      ],
      "source": [
        "# Виведіть графіки залежності зміни точності і втрат від кроку\n",
        "# Якщо все зроблено правильно, то точність повинна зростати, а втрати зменшуватись\n",
        "\n",
        "import matplotlib.pyplot as plt\n",
        "\n",
        "fig = plt.figure(figsize=(7,4))\n",
        "# Виведіть графік функції втрат\n",
        "plt.plot(loss_history)\n",
        "plt.show()\n",
        "# Виведіть графік точності\n",
        "# Місце для вашого коду\n",
        "fig = plt.figure(figsize=(7,4))\n",
        "plt.plot(accuracy_history)\n",
        "plt.gca().yaxis.set_major_formatter(plt.FuncFormatter(lambda y, _: f'{y:.0%}'))\n",
        "\n",
        "plt.show()"
      ]
    },
    {
      "cell_type": "code",
      "execution_count": 50,
      "metadata": {
        "id": "LE3g4gDyUSNY",
        "colab": {
          "base_uri": "https://localhost:8080/"
        },
        "outputId": "671c321e-e308-4237-ff9b-fc9d0fb88a62"
      },
      "outputs": [
        {
          "output_type": "stream",
          "name": "stdout",
          "text": [
            "acc_mean=93.645835%\n",
            "test_acc=91.720003%\n"
          ]
        }
      ],
      "source": [
        "# Обчисліть точність навченої нейромережі\n",
        "acc_mean = np.mean(accuracy_history)\n",
        "print(f\"{acc_mean=:%}\")\n",
        "# Тестування моделі на тестових даних\n",
        "test_pred = neural_net(x_test)\n",
        "test_acc = accuracy(test_pred, y_test).numpy()\n",
        "print(f\"{test_acc=:%}\")"
      ]
    },
    {
      "cell_type": "code",
      "source": [],
      "metadata": {
        "id": "wnwRpP1eFltQ"
      },
      "execution_count": 26,
      "outputs": []
    },
    {
      "cell_type": "code",
      "execution_count": 27,
      "metadata": {
        "id": "_EEHAubOUSNY"
      },
      "outputs": [],
      "source": [
        "# Протестуйте навчену нейромережу на 10 зображеннях. З тестової вибірки візьміть 5\n",
        "# випадкових зображень і передайте їх у нейронну мережу.\n",
        "# Виведіть зображення та випишіть  поруч відповідь нейромережі.\n",
        "# Зробіть висновок про те, чи помиляється твоя нейронна мережа, і якщо так, то як часто?\n",
        "\n",
        "# Місце для вашого коду\n",
        "\n",
        "\n"
      ]
    }
  ],
  "metadata": {
    "colab": {
      "provenance": [],
      "include_colab_link": true
    },
    "kernelspec": {
      "display_name": "Python 3 (ipykernel)",
      "language": "python",
      "name": "python3"
    },
    "language_info": {
      "codemirror_mode": {
        "name": "ipython",
        "version": 3
      },
      "file_extension": ".py",
      "mimetype": "text/x-python",
      "name": "python",
      "nbconvert_exporter": "python",
      "pygments_lexer": "ipython3",
      "version": "3.9.2"
    }
  },
  "nbformat": 4,
  "nbformat_minor": 0
}